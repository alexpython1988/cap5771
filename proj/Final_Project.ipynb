{
 "cells": [
  {
   "cell_type": "markdown",
   "metadata": {},
   "source": [
    "## Final Project\n",
    "### Xi Yang 16216573\n",
    "\n",
    "### data\n",
    "** the data set are from i2b2 which needs auth to public, so I could not shared the data, but example data are described below **\n",
    "- training data: C:\\Users\\xiyang\\Google Drive\\NLP_Project\\i2b2_data\\concept_assertion_relation_training_data\n",
    "    1. concept: beth/concept/*.con; partners/concept/*.con\n",
    "    2. txt: beth/txt/*.txt; partners/txt/*.txt\n",
    "- testing data: C:\\Users\\xiyang\\Google Drive\\NLP_Project\\i2b2_data\\reference_standard_for_test_data\n",
    "    1. concept: concepts/*.con\n",
    "    2. txt: test_data/*.txt\n",
    "\n",
    "### data sample\n",
    "** .con and .txt files are linked by sharing same filename **\n",
    "- data in .con file: c=\"angap\" 65:25 65:25||t=\"test\"\n",
    "- data in .txt file: 2018-10-31 06:25 AM BLOOD Glucose - 91 UreaN - 19 Creat - 0.8 Na - 134 K - 4.0 Cl - 98 HCO3 - 26 _AnGap_ - 14"
   ]
  },
  {
   "cell_type": "code",
   "execution_count": 20,
   "metadata": {},
   "outputs": [],
   "source": [
    "#read in training and testing data as raw\n",
    "import glob\n",
    "from functools import reduce\n",
    "base_path = \"C:\\\\Users\\\\xiyang\\\\Google Drive\\\\NLP_Project\\\\i2b2_data\\\\concept_assertion_relation_training_data\"\n",
    "\n",
    "con_file_paths = [base_path + \"\\\\beth\\\\concept\\\\*.con\", base_path + \"\\\\partners\\\\concept\\\\*.con\"]\n",
    "txt_file_paths = [base_path + \"\\\\beth\\\\txt\\\\*.txt\", base_path + \"\\\\parterns\\\\txt\\\\*.txt\"]\n",
    "\n",
    "con_files = list(reduce(lambda y, z: y + z, list(map(lambda x: glob.glob(x),  [files for files in con_file_paths]))))\n",
    "txt_files = list(reduce(lambda y, z: y + z, list(map(lambda x: glob.glob(x),  [files for files in txt_file_paths]))))\n",
    "\n",
    "#in each file pair, the first is the txt and second is the associated concept file\n",
    "file_pairs = list(zip(txt_files, con_files))"
   ]
  },
  {
   "cell_type": "code",
   "execution_count": null,
   "metadata": {
    "collapsed": true
   },
   "outputs": [],
   "source": [
    "'''\n",
    "In txt file, each line is a sentence token and each word need to be tokenized\n",
    "create a dict structure to store tokenization information\n",
    "{\n",
    "    //line\n",
    "    1: {       \n",
    "        1: first_word_token,\n",
    "        2: send_word_token,\n",
    "        ...\n",
    "    },\n",
    "    2: {\n",
    "        1: first_word_token,\n",
    "        2: send_word_token,\n",
    "    },\n",
    "    ...\n",
    "}\n",
    "'''\n",
    "\n",
    "def preprocess_raw_txt_file(file_pair):\n",
    "    token_dict = dict()\n",
    "    txt = file_pair[0]\n",
    "    con = file_pair[1]\n",
    "    with open(txt, \"r\") as fr:\n",
    "        for line_index, line in enumerate(fr):\n",
    "            "
   ]
  },
  {
   "cell_type": "code",
   "execution_count": null,
   "metadata": {
    "collapsed": true
   },
   "outputs": [],
   "source": []
  },
  {
   "cell_type": "code",
   "execution_count": null,
   "metadata": {
    "collapsed": true
   },
   "outputs": [],
   "source": []
  },
  {
   "cell_type": "code",
   "execution_count": null,
   "metadata": {
    "collapsed": true
   },
   "outputs": [],
   "source": []
  },
  {
   "cell_type": "code",
   "execution_count": null,
   "metadata": {
    "collapsed": true
   },
   "outputs": [],
   "source": []
  },
  {
   "cell_type": "code",
   "execution_count": null,
   "metadata": {
    "collapsed": true
   },
   "outputs": [],
   "source": []
  },
  {
   "cell_type": "code",
   "execution_count": null,
   "metadata": {
    "collapsed": true
   },
   "outputs": [],
   "source": []
  },
  {
   "cell_type": "code",
   "execution_count": null,
   "metadata": {
    "collapsed": true
   },
   "outputs": [],
   "source": []
  },
  {
   "cell_type": "code",
   "execution_count": null,
   "metadata": {
    "collapsed": true
   },
   "outputs": [],
   "source": []
  },
  {
   "cell_type": "code",
   "execution_count": null,
   "metadata": {
    "collapsed": true
   },
   "outputs": [],
   "source": []
  },
  {
   "cell_type": "code",
   "execution_count": null,
   "metadata": {
    "collapsed": true
   },
   "outputs": [],
   "source": []
  },
  {
   "cell_type": "code",
   "execution_count": null,
   "metadata": {
    "collapsed": true
   },
   "outputs": [],
   "source": []
  },
  {
   "cell_type": "code",
   "execution_count": null,
   "metadata": {
    "collapsed": true
   },
   "outputs": [],
   "source": []
  }
 ],
 "metadata": {
  "kernelspec": {
   "display_name": "Python 3",
   "language": "python",
   "name": "python3"
  },
  "language_info": {
   "codemirror_mode": {
    "name": "ipython",
    "version": 3
   },
   "file_extension": ".py",
   "mimetype": "text/x-python",
   "name": "python",
   "nbconvert_exporter": "python",
   "pygments_lexer": "ipython3",
   "version": "3.5.2"
  }
 },
 "nbformat": 4,
 "nbformat_minor": 2
}
