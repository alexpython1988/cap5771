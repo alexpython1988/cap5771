{
 "cells": [
  {
   "cell_type": "code",
   "execution_count": 129,
   "metadata": {
    "scrolled": true
   },
   "outputs": [],
   "source": [
    "import pandas as pd\n",
    "import numpy as np\n",
    "\n",
    "df = pd.read_csv(\"wc_day6_1_sample.csv\", encoding=\"ISO-8859-1\", names=[\"ClientID\", \"Date\",\"Time\",\"URL\", \"ResponseCode\",\"Size\"])\n",
    "                 #header=-1) \n",
    "                 #names=['index', 'date', 'time', 'file', 'status', 'duration'])\n",
    "df['Size'] = df['Size'].replace('-', np.nan)\n",
    "df['Size'] = df['Size'].astype(float)"
   ]
  },
  {
   "cell_type": "code",
   "execution_count": 130,
   "metadata": {},
   "outputs": [
    {
     "data": {
      "text/html": [
       "<div>\n",
       "<style>\n",
       "    .dataframe thead tr:only-child th {\n",
       "        text-align: right;\n",
       "    }\n",
       "\n",
       "    .dataframe thead th {\n",
       "        text-align: left;\n",
       "    }\n",
       "\n",
       "    .dataframe tbody tr th {\n",
       "        vertical-align: top;\n",
       "    }\n",
       "</style>\n",
       "<table border=\"1\" class=\"dataframe\">\n",
       "  <thead>\n",
       "    <tr style=\"text-align: right;\">\n",
       "      <th></th>\n",
       "      <th>ClientID</th>\n",
       "      <th>Date</th>\n",
       "      <th>Time</th>\n",
       "      <th>URL</th>\n",
       "      <th>ResponseCode</th>\n",
       "      <th>Size</th>\n",
       "    </tr>\n",
       "  </thead>\n",
       "  <tbody>\n",
       "    <tr>\n",
       "      <th>0</th>\n",
       "      <td>1044</td>\n",
       "      <td>30/Apr/1998</td>\n",
       "      <td>22:46:12</td>\n",
       "      <td>/images/11104.gif</td>\n",
       "      <td>200</td>\n",
       "      <td>508.0</td>\n",
       "    </tr>\n",
       "    <tr>\n",
       "      <th>1</th>\n",
       "      <td>10871</td>\n",
       "      <td>01/May/1998</td>\n",
       "      <td>12:10:53</td>\n",
       "      <td>/images/ligne.gif</td>\n",
       "      <td>200</td>\n",
       "      <td>169.0</td>\n",
       "    </tr>\n",
       "    <tr>\n",
       "      <th>2</th>\n",
       "      <td>11012</td>\n",
       "      <td>01/May/1998</td>\n",
       "      <td>12:17:30</td>\n",
       "      <td>/english/individuals/player111503.htm</td>\n",
       "      <td>200</td>\n",
       "      <td>7027.0</td>\n",
       "    </tr>\n",
       "    <tr>\n",
       "      <th>3</th>\n",
       "      <td>11435</td>\n",
       "      <td>01/May/1998</td>\n",
       "      <td>13:15:13</td>\n",
       "      <td>/french/frntpage.htm</td>\n",
       "      <td>304</td>\n",
       "      <td>0.0</td>\n",
       "    </tr>\n",
       "    <tr>\n",
       "      <th>4</th>\n",
       "      <td>12128</td>\n",
       "      <td>01/May/1998</td>\n",
       "      <td>13:30:21</td>\n",
       "      <td>/english/images/nav_sitemap_off.gif</td>\n",
       "      <td>304</td>\n",
       "      <td>NaN</td>\n",
       "    </tr>\n",
       "  </tbody>\n",
       "</table>\n",
       "</div>"
      ],
      "text/plain": [
       "   ClientID         Date      Time                                    URL  \\\n",
       "0      1044  30/Apr/1998  22:46:12                      /images/11104.gif   \n",
       "1     10871  01/May/1998  12:10:53                      /images/ligne.gif   \n",
       "2     11012  01/May/1998  12:17:30  /english/individuals/player111503.htm   \n",
       "3     11435  01/May/1998  13:15:13                   /french/frntpage.htm   \n",
       "4     12128  01/May/1998  13:30:21    /english/images/nav_sitemap_off.gif   \n",
       "\n",
       "  ResponseCode    Size  \n",
       "0          200   508.0  \n",
       "1          200   169.0  \n",
       "2          200  7027.0  \n",
       "3          304     0.0  \n",
       "4          304     NaN  "
      ]
     },
     "execution_count": 130,
     "metadata": {},
     "output_type": "execute_result"
    }
   ],
   "source": [
    "df.head()"
   ]
  },
  {
   "cell_type": "markdown",
   "metadata": {},
   "source": [
    "#### How many requests that were sent on '30/Apr/1998' and had HTTP return code 404?"
   ]
  },
  {
   "cell_type": "code",
   "execution_count": 131,
   "metadata": {},
   "outputs": [
    {
     "data": {
      "text/plain": [
       "Date\n",
       "01/May/1998    198\n",
       "30/Apr/1998     17\n",
       "dtype: int64"
      ]
     },
     "execution_count": 131,
     "metadata": {},
     "output_type": "execute_result"
    }
   ],
   "source": [
    "df1 = df[df['ResponseCode'] == '404']\n",
    "df1.groupby('Date').size()"
   ]
  },
  {
   "cell_type": "markdown",
   "metadata": {},
   "source": [
    "#### Generate a plot of the number of distinct users of the site every hour on 01/May/1998 using bar chart."
   ]
  },
  {
   "cell_type": "code",
   "execution_count": 132,
   "metadata": {},
   "outputs": [
    {
     "name": "stderr",
     "output_type": "stream",
     "text": [
      "E:\\anaconda\\lib\\site-packages\\pandas\\core\\indexing.py:337: SettingWithCopyWarning: \n",
      "A value is trying to be set on a copy of a slice from a DataFrame.\n",
      "Try using .loc[row_indexer,col_indexer] = value instead\n",
      "\n",
      "See the caveats in the documentation: http://pandas.pydata.org/pandas-docs/stable/indexing.html#indexing-view-versus-copy\n",
      "  self.obj[key] = _infer_fill_value(value)\n",
      "E:\\anaconda\\lib\\site-packages\\pandas\\core\\indexing.py:517: SettingWithCopyWarning: \n",
      "A value is trying to be set on a copy of a slice from a DataFrame.\n",
      "Try using .loc[row_indexer,col_indexer] = value instead\n",
      "\n",
      "See the caveats in the documentation: http://pandas.pydata.org/pandas-docs/stable/indexing.html#indexing-view-versus-copy\n",
      "  self.obj[item] = s\n"
     ]
    }
   ],
   "source": [
    "d_df = df[df['Date'] == '01/May/1998']\n",
    "to_dt = d_df.apply(lambda x: ' '.join([x['Date'], x['Time']]), axis=1)\n",
    "d_df.loc[:, ('Datetime')] = pd.to_datetime(to_dt)"
   ]
  },
  {
   "cell_type": "code",
   "execution_count": 133,
   "metadata": {},
   "outputs": [
    {
     "data": {
      "text/html": [
       "<div>\n",
       "<style>\n",
       "    .dataframe thead tr:only-child th {\n",
       "        text-align: right;\n",
       "    }\n",
       "\n",
       "    .dataframe thead th {\n",
       "        text-align: left;\n",
       "    }\n",
       "\n",
       "    .dataframe tbody tr th {\n",
       "        vertical-align: top;\n",
       "    }\n",
       "</style>\n",
       "<table border=\"1\" class=\"dataframe\">\n",
       "  <thead>\n",
       "    <tr style=\"text-align: right;\">\n",
       "      <th></th>\n",
       "      <th>ClientID</th>\n",
       "      <th>Date</th>\n",
       "      <th>Time</th>\n",
       "      <th>URL</th>\n",
       "      <th>ResponseCode</th>\n",
       "      <th>Size</th>\n",
       "      <th>Datetime</th>\n",
       "    </tr>\n",
       "  </thead>\n",
       "  <tbody>\n",
       "    <tr>\n",
       "      <th>1</th>\n",
       "      <td>10871</td>\n",
       "      <td>01/May/1998</td>\n",
       "      <td>12:10:53</td>\n",
       "      <td>/images/ligne.gif</td>\n",
       "      <td>200</td>\n",
       "      <td>169.0</td>\n",
       "      <td>1998-05-01 12:10:53</td>\n",
       "    </tr>\n",
       "    <tr>\n",
       "      <th>2</th>\n",
       "      <td>11012</td>\n",
       "      <td>01/May/1998</td>\n",
       "      <td>12:17:30</td>\n",
       "      <td>/english/individuals/player111503.htm</td>\n",
       "      <td>200</td>\n",
       "      <td>7027.0</td>\n",
       "      <td>1998-05-01 12:17:30</td>\n",
       "    </tr>\n",
       "    <tr>\n",
       "      <th>3</th>\n",
       "      <td>11435</td>\n",
       "      <td>01/May/1998</td>\n",
       "      <td>13:15:13</td>\n",
       "      <td>/french/frntpage.htm</td>\n",
       "      <td>304</td>\n",
       "      <td>0.0</td>\n",
       "      <td>1998-05-01 13:15:13</td>\n",
       "    </tr>\n",
       "    <tr>\n",
       "      <th>4</th>\n",
       "      <td>12128</td>\n",
       "      <td>01/May/1998</td>\n",
       "      <td>13:30:21</td>\n",
       "      <td>/english/images/nav_sitemap_off.gif</td>\n",
       "      <td>304</td>\n",
       "      <td>NaN</td>\n",
       "      <td>1998-05-01 13:30:21</td>\n",
       "    </tr>\n",
       "    <tr>\n",
       "      <th>5</th>\n",
       "      <td>13649</td>\n",
       "      <td>01/May/1998</td>\n",
       "      <td>14:55:01</td>\n",
       "      <td>/images/hm_anime_e.gif</td>\n",
       "      <td>200</td>\n",
       "      <td>15609.0</td>\n",
       "      <td>1998-05-01 14:55:01</td>\n",
       "    </tr>\n",
       "  </tbody>\n",
       "</table>\n",
       "</div>"
      ],
      "text/plain": [
       "   ClientID         Date      Time                                    URL  \\\n",
       "1     10871  01/May/1998  12:10:53                      /images/ligne.gif   \n",
       "2     11012  01/May/1998  12:17:30  /english/individuals/player111503.htm   \n",
       "3     11435  01/May/1998  13:15:13                   /french/frntpage.htm   \n",
       "4     12128  01/May/1998  13:30:21    /english/images/nav_sitemap_off.gif   \n",
       "5     13649  01/May/1998  14:55:01                 /images/hm_anime_e.gif   \n",
       "\n",
       "  ResponseCode     Size            Datetime  \n",
       "1          200    169.0 1998-05-01 12:10:53  \n",
       "2          200   7027.0 1998-05-01 12:17:30  \n",
       "3          304      0.0 1998-05-01 13:15:13  \n",
       "4          304      NaN 1998-05-01 13:30:21  \n",
       "5          200  15609.0 1998-05-01 14:55:01  "
      ]
     },
     "execution_count": 133,
     "metadata": {},
     "output_type": "execute_result"
    }
   ],
   "source": [
    "d_df.head()"
   ]
  },
  {
   "cell_type": "code",
   "execution_count": 134,
   "metadata": {},
   "outputs": [],
   "source": [
    "dhg = d_df.groupby(lambda x: d_df['Datetime'][x].hour)"
   ]
  },
  {
   "cell_type": "code",
   "execution_count": 135,
   "metadata": {},
   "outputs": [
    {
     "data": {
      "text/plain": [
       "<matplotlib.text.Text at 0x19745d3ea20>"
      ]
     },
     "execution_count": 135,
     "metadata": {},
     "output_type": "execute_result"
    },
    {
     "data": {
      "image/png": "[encoded data removed]",
      "text/plain": [
       "<matplotlib.figure.Figure at 0x1973b9a2d30>"
      ]
     },
     "metadata": {},
     "output_type": "display_data"
    }
   ],
   "source": [
    "import matplotlib as plt\n",
    "% matplotlib inline\n",
    "\n",
    "ax = dhg.agg({\"ClientID\": 'nunique'}).plot(kind='bar')\n",
    "ax.legend(loc='upper left')\n",
    "ax.set_xlabel(\"Hour\")\n",
    "ax.set_ylabel(\"Distinct ID number\")"
   ]
  },
  {
   "cell_type": "markdown",
   "metadata": {},
   "source": [
    "#### Generate a line plot of the number of distinct users vs size of traffic of the site every hour on 01/May/1998, is there any correlation? (hint: use \"hour_grouped['ClientID'].nunique()\" to get the number of distinct users)"
   ]
  },
  {
   "cell_type": "code",
   "execution_count": 136,
   "metadata": {},
   "outputs": [
    {
     "data": {
      "text/plain": [
       "<matplotlib.text.Text at 0x19749a64278>"
      ]
     },
     "execution_count": 136,
     "metadata": {},
     "output_type": "execute_result"
    },
    {
     "data": {
      "image/png": "[encoded data removed]",
      "text/plain": [
       "<matplotlib.figure.Figure at 0x1973a4a7828>"
      ]
     },
     "metadata": {},
     "output_type": "display_data"
    }
   ],
   "source": [
    "fig, ax1 = plt.pyplot.subplots()\n",
    "ax2 = ax1.twinx()\n",
    "x = dhg.size().index\n",
    "ax1.plot(x, dhg.agg({\"ClientID\": 'nunique'}), \"b-\")\n",
    "ax2.plot(x, dhg['Size'].sum(), \"r-\")\n",
    "ax1.set_xlabel('Hour of the day')\n",
    "ax1.set_ylabel('# of distinct Client', color='b')\n",
    "ax2.set_ylabel('Size of traffic handled', color='r')"
   ]
  },
  {
   "cell_type": "markdown",
   "metadata": {},
   "source": [
    "#### We wish to see if there is any correlation between client-ids and hours of the day at which they visit the website. Get 100 client ids from the dataset and generate a scatter plot that shows the hours of the day these clients sent requests. Hint: df.plot(kind='scatter', x='a', y='b'); and df['Column'].unique()"
   ]
  },
  {
   "cell_type": "code",
   "execution_count": 104,
   "metadata": {},
   "outputs": [
    {
     "data": {
      "text/plain": [
       "<matplotlib.text.Text at 0x1973bd15080>"
      ]
     },
     "execution_count": 104,
     "metadata": {},
     "output_type": "execute_result"
    },
    {
     "data": {
      "image/png": "[encoded data removed]",
      "text/plain": [
       "<matplotlib.figure.Figure at 0x1973bd2ab00>"
      ]
     },
     "metadata": {},
     "output_type": "display_data"
    }
   ],
   "source": [
    "c = d_df['ClientID'].unique()\n",
    "\n",
    "import random\n",
    "r = set()\n",
    "for i in range(100):\n",
    "    x = random.randrange(0, len(c)-1)\n",
    "    while x in r:\n",
    "        x = random.randrange(0, len(c)-1)\n",
    "    r.add(x)\n",
    "    \n",
    "xx = list(map(lambda x: x[1], list(zip(r, c))))\n",
    "\n",
    "cdf = d_df[d_df['ClientID'].isin(xx)]\n",
    "\n",
    "ndf = pd.DataFrame({'a':cdf['ClientID'], \"b\": cdf['Time'].astype(str).apply(lambda x: int(x[:2]))})\n",
    "\n",
    "ax = ndf.plot(kind='scatter', x='a', y='b')\n",
    "ax.set_xlabel('IDs')\n",
    "ax.set_ylabel('Hours')"
   ]
  },
  {
   "cell_type": "markdown",
   "metadata": {},
   "source": [
    "#### The log file used in the lab was from one day of the WorldCup. Lets apply our analysis to Jul/24 and Jul/25 in the log(wc_day91_1.log.tar.bz2). Repeat exercises 3 and 4 with it. How similar or different are the results? Hint: You can use UNIX command line tools from Lab 1 to first get a csv file and then load it into Pandas."
   ]
  },
  {
   "cell_type": "code",
   "execution_count": 141,
   "metadata": {},
   "outputs": [
    {
     "data": {
      "text/html": [
       "<div>\n",
       "<style>\n",
       "    .dataframe thead tr:only-child th {\n",
       "        text-align: right;\n",
       "    }\n",
       "\n",
       "    .dataframe thead th {\n",
       "        text-align: left;\n",
       "    }\n",
       "\n",
       "    .dataframe tbody tr th {\n",
       "        vertical-align: top;\n",
       "    }\n",
       "</style>\n",
       "<table border=\"1\" class=\"dataframe\">\n",
       "  <thead>\n",
       "    <tr style=\"text-align: right;\">\n",
       "      <th></th>\n",
       "      <th>ClientID</th>\n",
       "      <th>Date</th>\n",
       "      <th>Time</th>\n",
       "      <th>URL</th>\n",
       "      <th>ResponseCode</th>\n",
       "      <th>Size</th>\n",
       "    </tr>\n",
       "  </thead>\n",
       "  <tbody>\n",
       "    <tr>\n",
       "      <th>0</th>\n",
       "      <td>2743832</td>\n",
       "      <td>24-Jul-98</td>\n",
       "      <td>22:00:01</td>\n",
       "      <td>GET,/english/history/body.html,HTTP/1.1</td>\n",
       "      <td>200</td>\n",
       "      <td>2909.0</td>\n",
       "    </tr>\n",
       "    <tr>\n",
       "      <th>1</th>\n",
       "      <td>2572248</td>\n",
       "      <td>24-Jul-98</td>\n",
       "      <td>22:00:01</td>\n",
       "      <td>GET,/,HTTP/1.0</td>\n",
       "      <td>200</td>\n",
       "      <td>4930.0</td>\n",
       "    </tr>\n",
       "    <tr>\n",
       "      <th>2</th>\n",
       "      <td>31798</td>\n",
       "      <td>24-Jul-98</td>\n",
       "      <td>22:00:02</td>\n",
       "      <td>GET,/french/competition/maincomp.htm,HTTP/1.0</td>\n",
       "      <td>200</td>\n",
       "      <td>12970.0</td>\n",
       "    </tr>\n",
       "    <tr>\n",
       "      <th>3</th>\n",
       "      <td>1848501</td>\n",
       "      <td>24-Jul-98</td>\n",
       "      <td>22:00:02</td>\n",
       "      <td>GET,/,HTTP/1.0</td>\n",
       "      <td>200</td>\n",
       "      <td>4930.0</td>\n",
       "    </tr>\n",
       "    <tr>\n",
       "      <th>4</th>\n",
       "      <td>248</td>\n",
       "      <td>24-Jul-98</td>\n",
       "      <td>22:00:03</td>\n",
       "      <td>GET,/images/home_intro.anim.gif,HTTP/1.0</td>\n",
       "      <td>200</td>\n",
       "      <td>60349.0</td>\n",
       "    </tr>\n",
       "  </tbody>\n",
       "</table>\n",
       "</div>"
      ],
      "text/plain": [
       "   ClientID       Date      Time  \\\n",
       "0   2743832  24-Jul-98  22:00:01   \n",
       "1   2572248  24-Jul-98  22:00:01   \n",
       "2     31798  24-Jul-98  22:00:02   \n",
       "3   1848501  24-Jul-98  22:00:02   \n",
       "4       248  24-Jul-98  22:00:03   \n",
       "\n",
       "                                             URL ResponseCode     Size  \n",
       "0        GET,/english/history/body.html,HTTP/1.1          200   2909.0  \n",
       "1                                 GET,/,HTTP/1.0          200   4930.0  \n",
       "2  GET,/french/competition/maincomp.htm,HTTP/1.0          200  12970.0  \n",
       "3                                 GET,/,HTTP/1.0          200   4930.0  \n",
       "4       GET,/images/home_intro.anim.gif,HTTP/1.0          200  60349.0  "
      ]
     },
     "execution_count": 141,
     "metadata": {},
     "output_type": "execute_result"
    }
   ],
   "source": [
    "df = pd.read_csv(\"1.csv\", names=[\"ClientID\", \"Date\",\"Time\",\"URL\", \"ResponseCode\", \"Size\"])\n",
    "df['Size'] = df['Size'].replace('-', np.nan)\n",
    "df['Size'] = df['Size'].astype(float)\n",
    "df.head()"
   ]
  },
  {
   "cell_type": "code",
   "execution_count": 142,
   "metadata": {},
   "outputs": [
    {
     "data": {
      "text/plain": [
       "<matplotlib.text.Text at 0x1974e057c18>"
      ]
     },
     "execution_count": 142,
     "metadata": {},
     "output_type": "execute_result"
    },
    {
     "data": {
      "image/png": "[encoded data removed]",
      "text/plain": [
       "<matplotlib.figure.Figure at 0x1973a4aa860>"
      ]
     },
     "metadata": {},
     "output_type": "display_data"
    }
   ],
   "source": [
    "d_df = df[df[Date] == '24-Jul-98']\n",
    "#d_df = df[df[Date] == '25-Jul-98']\n",
    "to_dt = d_df.apply(lambda x: ' '.join([x['Date'], x['Time']]), axis=1)\n",
    "df.loc[:, ('Datetime')] = pd.to_datetime(to_dt)\n",
    "dhg = d_df.groupby(lambda x: df['Datetime'][x].hour)\n",
    "fig, ax1 = plt.pyplot.subplots()\n",
    "ax2 = ax1.twinx()\n",
    "x = dhg.size().index\n",
    "ax1.plot(x, dhg.agg({\"ClientID\": 'nunique'}), \"b-\")\n",
    "ax2.plot(x, dhg['Size'].sum(), \"r-\")\n",
    "ax1.set_xlabel('Hour of the day')\n",
    "ax1.set_ylabel('# of distinct Client', color='b')\n",
    "ax2.set_ylabel('Size of traffic handled', color='r')"
   ]
  },
  {
   "cell_type": "code",
   "execution_count": 144,
   "metadata": {},
   "outputs": [
    {
     "data": {
      "text/plain": [
       "<matplotlib.text.Text at 0x1974945d0f0>"
      ]
     },
     "execution_count": 144,
     "metadata": {},
     "output_type": "execute_result"
    },
    {
     "data": {
      "image/png": "[encoded data removed]",
      "text/plain": [
       "<matplotlib.figure.Figure at 0x197494e5390>"
      ]
     },
     "metadata": {},
     "output_type": "display_data"
    }
   ],
   "source": [
    "c = d_df['ClientID'].unique()\n",
    "import random\n",
    "r = set()\n",
    "for i in range(100):\n",
    "    x = random.randrange(0, len(c)-1)\n",
    "    while x in r:\n",
    "        x = random.randrange(0, len(c)-1)\n",
    "    r.add(x)   \n",
    "xx = list(map(lambda x: x[1], list(zip(r, c))))\n",
    "cdf = d_df[d_df['ClientID'].isin(xx)]\n",
    "ndf = pd.DataFrame({'a':cdf['ClientID'], \"b\": cdf['Time'].astype(str).apply(lambda x: int(x.split(\":\")[0]))})\n",
    "ax = ndf.plot(kind='scatter', x='a', y='b')\n",
    "ax.set_xlabel('ClientIDs')\n",
    "ax.set_ylabel('Hours')"
   ]
  },
  {
   "cell_type": "code",
   "execution_count": null,
   "metadata": {
    "collapsed": true
   },
   "outputs": [],
   "source": []
  }
 ],
 "metadata": {
  "kernelspec": {
   "display_name": "Python 3",
   "language": "python",
   "name": "python3"
  },
  "language_info": {
   "codemirror_mode": {
    "name": "ipython",
    "version": 3
   },
   "file_extension": ".py",
   "mimetype": "text/x-python",
   "name": "python",
   "nbconvert_exporter": "python",
   "pygments_lexer": "ipython3",
   "version": "3.6.1"
  }
 },
 "nbformat": 4,
 "nbformat_minor": 2
}
